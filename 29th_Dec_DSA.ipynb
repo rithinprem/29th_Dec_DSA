{
 "cells": [
  {
   "cell_type": "code",
   "execution_count": 1,
   "id": "381e1aad-1a34-417a-87a8-ab16520bee07",
   "metadata": {},
   "outputs": [],
   "source": [
    "# Problem 1: Reverse a singly linked list.\n",
    "# Input: 1 -> 2 -> 3 -> 4 -> 5\n",
    "# Output: 5 -> 4 -> 3 -> 2 -> 1\n",
    "\n",
    "class Node:\n",
    "    def __init__(self,Data,Next=None):\n",
    "        self.Data=Data\n",
    "        self.Next=Next\n",
    "        \n",
    "    def getData(self):\n",
    "        return self.Data\n",
    "    \n",
    "    def setData(self,Data):\n",
    "        self.Data=Data\n",
    "        \n",
    "    def getNext(self):\n",
    "        return self.Next\n",
    "    \n",
    "    def setNext(self,Next):\n",
    "        self.Next = Next\n",
    "        \n",
    "def traverse(head):\n",
    "    temp = head\n",
    "    while(temp):\n",
    "        print(temp.getData(),end=\"->\")\n",
    "        temp=temp.getNext()\n",
    "\n",
    "def lengthLL(head):\n",
    "    count=0\n",
    "    temp=head\n",
    "    while temp:\n",
    "        count+=1\n",
    "        temp=temp.getNext()\n",
    "    return count"
   ]
  },
  {
   "cell_type": "code",
   "execution_count": 7,
   "id": "1fd22d9c-16c8-49f8-a75e-0232a4dae6c6",
   "metadata": {},
   "outputs": [
    {
     "name": "stdout",
     "output_type": "stream",
     "text": [
      "1->2->3->4->5->\n",
      "5\n",
      "5->4->3->2->1->"
     ]
    }
   ],
   "source": [
    "head = Node(1)\n",
    "node2 = Node(2)\n",
    "node3 = Node(3)\n",
    "node4 = Node(4)\n",
    "node5 = Node(5)\n",
    "\n",
    "head.setNext(node2)\n",
    "node2.setNext(node3)\n",
    "node3.setNext(node4)\n",
    "node4.setNext(node5)\n",
    "\n",
    "traverse(head)\n",
    "print()\n",
    "print(lengthLL(head))\n",
    "\n",
    "\n",
    "\n",
    "def reverseLL(head):\n",
    "    prev = None\n",
    "    current = head\n",
    "    while current:\n",
    "        temp_next = current.getNext()\n",
    "        current.setNext(prev)\n",
    "        prev = current\n",
    "        current = temp_next\n",
    "    head = prev\n",
    "    return head\n",
    "\n",
    "head=reverseLL(head)\n",
    "traverse(head)  "
   ]
  },
  {
   "cell_type": "code",
   "execution_count": 33,
   "id": "95f605ca-a40c-4c3f-9ac6-0649beeddb72",
   "metadata": {},
   "outputs": [
    {
     "name": "stdout",
     "output_type": "stream",
     "text": [
      "1->3->5->\n",
      "2->4->6->\n",
      "1->2->3->4->5->6->"
     ]
    }
   ],
   "source": [
    "# Problem 2: Merge two sorted linked lists into one sorted linked list.\n",
    "# Input: List 1: 1 -> 3 -> 5, List 2: 2 -> 4 -> 6\n",
    "# Output: 1 -> 2 -> 3 -> 4 -> 5 -> 6\n",
    "\n",
    "head1 = Node(1)\n",
    "node2 = Node(3)\n",
    "node3 = Node(5)\n",
    "\n",
    "head1.setNext(node2)\n",
    "node2.setNext(node3)\n",
    "\n",
    "head2 = Node(2)\n",
    "node_2 = Node(4)\n",
    "node_3 = Node(6)\n",
    "\n",
    "head2.setNext(node_2)\n",
    "node_2.setNext(node_3)\n",
    "\n",
    "\n",
    "\n",
    "traverse(head1)\n",
    "print()\n",
    "traverse(head2)\n",
    "print()\n",
    "\n",
    "def merge_two_ll(head1,head2):\n",
    "    dummy=Node(0)\n",
    "    node1=head1\n",
    "    node2=head2\n",
    "    \n",
    "    while node1 and node2 :\n",
    "        if node1.getData()<node2.getData():\n",
    "            dummy.setNext(node1)\n",
    "            node1=node1.getNext()\n",
    "        else:\n",
    "            dummy.setNext(node2)\n",
    "            node2=node2.getNext()\n",
    "            \n",
    "        dummy=dummy.getNext()\n",
    "\n",
    "        \n",
    "        if node1==None:\n",
    "            dummy.setNext(node2)\n",
    "        else:\n",
    "            dummy.setNext(node1)\n",
    "            \n",
    "    return (head1 if head1.getData()<head2.getData() else head2)\n",
    "        \n",
    "     \n",
    "head=merge_two_ll(head1,head2)\n",
    "traverse(head)"
   ]
  },
  {
   "cell_type": "code",
   "execution_count": 8,
   "id": "f681f105-79bc-4d08-af34-0a9d8878c69b",
   "metadata": {},
   "outputs": [
    {
     "name": "stdout",
     "output_type": "stream",
     "text": [
      "1->2->3->4->5->\n",
      "1->2->3->5->"
     ]
    }
   ],
   "source": [
    "# Problem 3: Remove the nth node from the end of a linked list.\n",
    "# Input: 1 -> 2 -> 3 -> 4 -> 5, n = 2\n",
    "# Output: 1 -> 2 -> 3 -> 5\n",
    "\n",
    "head = Node(1)\n",
    "node2 = Node(2)\n",
    "node3 = Node(3)\n",
    "node4 = Node(4)\n",
    "node5 = Node(5)\n",
    "\n",
    "head.setNext(node2)\n",
    "node2.setNext(node3)\n",
    "node3.setNext(node4)\n",
    "node4.setNext(node5)\n",
    "\n",
    "traverse(head)\n",
    "print()\n",
    "\n",
    "#using length approach\n",
    "\n",
    "# def remove_Nth_node(head,n):\n",
    "#     if n==0:\n",
    "#         print(\"Error in deletion\")\n",
    "#         return head\n",
    "#     count = lengthLL(head)   #finding length of linkedlist\n",
    "    \n",
    "#     if n==count:\n",
    "#         head = head.getNext()\n",
    "#         return head\n",
    "#     prev_node = count - n\n",
    "#     temp=head\n",
    "#     for i in range(prev_node-1):\n",
    "#         temp=temp.getNext()\n",
    "        \n",
    "#     temp.setNext(temp.getNext().getNext())\n",
    "#     return head\n",
    "    \n",
    "\n",
    "#slow and fast pointer approach\n",
    "\n",
    "def remove_Nth_node(head,n):\n",
    "    if n==0:\n",
    "        print(\"Error in deletion\")\n",
    "        return head \n",
    "    \n",
    "    dummy = Node(0)\n",
    "    dummy.setNext(head)\n",
    "    slow=dummy\n",
    "    fast=dummy\n",
    "    \n",
    "    for _ in range(n+1):\n",
    "        fast=fast.getNext()\n",
    "        \n",
    "            \n",
    "    while fast:\n",
    "        fast=fast.getNext()\n",
    "        slow=slow.getNext()\n",
    "        \n",
    "    slow.setNext(slow.getNext().getNext())\n",
    "    return dummy.getNext()\n",
    "    \n",
    "    \n",
    "\n",
    "    \n",
    "# example usage deleting last 2nd node\n",
    "head = remove_Nth_node(head,2)\n",
    "traverse(head)"
   ]
  },
  {
   "cell_type": "code",
   "execution_count": 11,
   "id": "204e7812-04f2-4a4a-a06f-742d4f4040fb",
   "metadata": {},
   "outputs": [
    {
     "name": "stdout",
     "output_type": "stream",
     "text": [
      "1->2->3->4->\n",
      "9->8->3->4->\n",
      "Node with value:3\n"
     ]
    }
   ],
   "source": [
    "# Problem 4: Find the intersection point of two linked lists.\n",
    "# Input: List 1: 1 -> 2 -> 3 -> 4, List 2: 9 -> 8 -> 3 -> 4\n",
    "# Output: Node with value 3\n",
    "\n",
    "head1 = Node(1)\n",
    "node2 = Node(2)\n",
    "node3 = Node(3)\n",
    "node4 = Node(4)\n",
    "\n",
    "\n",
    "head1.setNext(node2)\n",
    "node2.setNext(node3)\n",
    "node3.setNext(node4)\n",
    "\n",
    "traverse(head1)\n",
    "print()\n",
    "\n",
    "head2 = Node(9)\n",
    "node_2 = Node(8)\n",
    "node_3 = Node(3)\n",
    "node_4 = Node(4)\n",
    "\n",
    "\n",
    "head2.setNext(node_2)\n",
    "node_2.setNext(node_3)\n",
    "node_3.setNext(node_4)\n",
    "\n",
    "traverse(head2)\n",
    "print()\n",
    "\n",
    "\n",
    "\n",
    "def find_intersection(head1,head2):\n",
    "    h = set()\n",
    "    temp1 = head1\n",
    "    temp2= head2\n",
    "    while temp1 and temp2:\n",
    "        if temp1.getData() not in h:\n",
    "            h.add(temp1.getData())\n",
    "            temp1=temp1.getNext()\n",
    "        else:\n",
    "            return f\"Node with value:{temp1.getData()}\"\n",
    "        \n",
    "        if temp2.getData() not in h:\n",
    "            h.add(temp2.getData())\n",
    "            temp2=temp2.getNext()\n",
    "            \n",
    "        else:\n",
    "            return f\"Node with value:{temp2.getData()}\"\n",
    "        \n",
    "    return \"No intersection\"\n",
    "\n",
    "print(find_intersection(head1,head2))\n",
    "        \n",
    "            \n",
    "            "
   ]
  },
  {
   "cell_type": "code",
   "execution_count": 10,
   "id": "ba74449f-d3a4-423c-8f13-2b36977fd30d",
   "metadata": {},
   "outputs": [
    {
     "name": "stdout",
     "output_type": "stream",
     "text": [
      "1->1->2->3->3->\n",
      "1->2->3->"
     ]
    }
   ],
   "source": [
    "# Problem 5: Remove duplicates from a sorted linked list.\n",
    "# Input: 1 -> 1 -> 2 -> 3 -> 3\n",
    "# Output: 1 -> 2 -> 3\n",
    "\n",
    "head = Node(1)\n",
    "node2 = Node(1)\n",
    "node3 = Node(2)\n",
    "node4 = Node(3)\n",
    "node5 = Node(3)\n",
    "\n",
    "\n",
    "head.setNext(node2)\n",
    "node2.setNext(node3)\n",
    "node3.setNext(node4)\n",
    "node4.setNext(node5)\n",
    "\n",
    "traverse(head)\n",
    "print()\n",
    "\n",
    "def remove_duplicates(head):\n",
    "    if not head or not head.getNext():\n",
    "        return head  # Empty or single-node list\n",
    "    temp = head\n",
    "    while (temp.getNext()):\n",
    "        if temp.getData()==temp.getNext().getData():\n",
    "            temp.setNext(temp.getNext().getNext())\n",
    "            continue\n",
    "        temp=temp.getNext()\n",
    "\n",
    "remove_duplicates(head)\n",
    "traverse(head)"
   ]
  },
  {
   "cell_type": "code",
   "execution_count": 32,
   "id": "93061fdd-c926-4fc4-9987-11419e62eace",
   "metadata": {},
   "outputs": [
    {
     "name": "stdout",
     "output_type": "stream",
     "text": [
      "2->4->3->\n",
      "5->6->4->\n",
      "7->0->8->"
     ]
    }
   ],
   "source": [
    "# Problem 6: Add two numbers represented by linked lists (where each node contains a single digit).\n",
    "# Input: List 1: 2 -> 4 -> 3, List 2: 5 -> 6 -> 4 (represents 342 + 465)\n",
    "# # Output: 7 -> 0 -> 8 (represents 807)\n",
    "\n",
    "head_1 = Node(2)\n",
    "node2 = Node(4)\n",
    "node3 = Node(3)\n",
    "\n",
    "head_1.setNext(node2)\n",
    "node2.setNext(node3)\n",
    "\n",
    "traverse(head_1)\n",
    "print()\n",
    "\n",
    "head_2 = Node(5)\n",
    "node_2 = Node(6)\n",
    "node_3 = Node(4)\n",
    "\n",
    "head_2.setNext(node_2)\n",
    "node_2.setNext(node_3)\n",
    "\n",
    "\n",
    "traverse(head_2)\n",
    "print()\n",
    "\n",
    "\n",
    "def add_LL(head_1,head_2):\n",
    "    num1 = \"\"\n",
    "    num2 = \"\"\n",
    "    temp1=head_1\n",
    "    temp2=head_2\n",
    "    \n",
    "    while temp1 or temp2:\n",
    "        if temp1:\n",
    "            num1+=str(temp1.getData())\n",
    "            temp1=temp1.getNext()\n",
    "            \n",
    "        if temp2:\n",
    "            num2+=str(temp2.getData())\n",
    "            temp2=temp2.getNext()\n",
    "            \n",
    "    result=str(int(num1[::-1])+int(num2[::-1]))[::-1]\n",
    "    r_head = Node(int(result[0]))\n",
    "    temp = r_head\n",
    "    for i in result[1:] :\n",
    "        node = Node(int(i))\n",
    "        temp.setNext(node)\n",
    "        temp=temp.getNext()\n",
    "        \n",
    "    return r_head\n",
    "\n",
    "r_head=add_LL(head_1,head_2)\n",
    "traverse(r_head)"
   ]
  },
  {
   "cell_type": "code",
   "execution_count": 16,
   "id": "fa9f2ef9-4964-465e-91ba-f3d34f0c25a0",
   "metadata": {},
   "outputs": [
    {
     "name": "stdout",
     "output_type": "stream",
     "text": [
      "1->2->3->4->\n",
      "2->1->4->3->"
     ]
    }
   ],
   "source": [
    "# Problem 7: Swap nodes in pairs in a linked list.\n",
    "# Input: 1 -> 2 -> 3 -> 4\n",
    "# Output: 2 -> 1 -> 4 -> 3\n",
    "\n",
    "head = Node(1)\n",
    "node2 = Node(2)\n",
    "node3 = Node(3)\n",
    "node4 = Node(4)\n",
    "\n",
    "\n",
    "\n",
    "head.setNext(node2)\n",
    "node2.setNext(node3)\n",
    "node3.setNext(node4)\n",
    "\n",
    "\n",
    "traverse(head)\n",
    "print()\n",
    "\n",
    "def swap_nodes(head):\n",
    "    temp=head\n",
    "    while (temp and temp.getNext()):\n",
    "        data=temp.getData()\n",
    "        temp.setData(temp.getNext().getData())\n",
    "        temp.getNext().setData(data)\n",
    "        temp=temp.getNext().getNext()\n",
    "    return head\n",
    "\n",
    "head=swap_nodes(head)\n",
    "traverse(head)"
   ]
  },
  {
   "cell_type": "code",
   "execution_count": 33,
   "id": "5a333d3b-396a-43b6-96b9-cde16c681992",
   "metadata": {},
   "outputs": [
    {
     "name": "stdout",
     "output_type": "stream",
     "text": [
      "1->2->3->4->5->\n",
      "3->2->1->4->5->"
     ]
    }
   ],
   "source": [
    "# Problem 8: Reverse nodes in a linked list in groups of k.\n",
    "# Input: 1 -> 2 -> 3 -> 4 -> 5, k = 3\n",
    "# Output: 3 -> 2 -> 1 -> 4 -> 5\n",
    "\n",
    "head = Node(1)\n",
    "node2 = Node(2)\n",
    "node3 = Node(3)\n",
    "node4 = Node(4)\n",
    "node5 = Node(5)\n",
    "\n",
    "\n",
    "\n",
    "\n",
    "head.setNext(node2)\n",
    "node2.setNext(node3)\n",
    "node3.setNext(node4)\n",
    "node4.setNext(node5)\n",
    "\n",
    "\n",
    "\n",
    "traverse(head)\n",
    "print()\n",
    "\n",
    "def reverse_nodes_k(head,k):\n",
    "    if k<=0:\n",
    "        return head\n",
    "    continue_node = head\n",
    "    for i in range(k-1):\n",
    "        temp = continue_node.getNext()\n",
    "        continue_node = temp\n",
    "        \n",
    "    count=0\n",
    "    prev = continue_node.getNext()\n",
    "    current = head\n",
    "    while current and count<k:\n",
    "        node = current.getNext()\n",
    "        current.setNext(prev)\n",
    "        prev=current\n",
    "        current=node\n",
    "        count+=1\n",
    "    \n",
    "    head=prev\n",
    "    return head\n",
    "\n",
    "#example usage with k=3\n",
    "head = reverse_nodes_k(head,3)\n",
    "traverse(head)"
   ]
  },
  {
   "cell_type": "code",
   "execution_count": 51,
   "id": "e4590622-d0fe-4b02-9dad-9c2982d515bd",
   "metadata": {},
   "outputs": [
    {
     "name": "stdout",
     "output_type": "stream",
     "text": [
      "1->2->2->1->\n",
      "Its pallindrome\n"
     ]
    }
   ],
   "source": [
    "# Problem 9: Determine if a linked list is a palindrome.\n",
    "# Input: 1 -> 2 -> 2 -> 1\n",
    "# Output: True\n",
    "\n",
    "\n",
    "head = Node(1)\n",
    "node2 = Node(2)\n",
    "node3 = Node(2)\n",
    "node4 = Node(1)\n",
    "\n",
    "\n",
    "\n",
    "head.setNext(node2)\n",
    "node2.setNext(node3)\n",
    "node3.setNext(node4)\n",
    "\n",
    "\n",
    "\n",
    "traverse(head)\n",
    "print()\n",
    "\n",
    "def checkPallindrome(head):\n",
    "    def find_middle(head):\n",
    "        fast = head\n",
    "        slow = head\n",
    "        \n",
    "        while (fast and fast.getNext()) :\n",
    "            fast = fast.getNext().getNext()\n",
    "            slow = slow.getNext()\n",
    "            \n",
    "        return slow\n",
    "    \n",
    "    def reverse(head):\n",
    "        prev = None\n",
    "        current = head\n",
    "        while current:\n",
    "            temp=current.getNext()\n",
    "            current.setNext(prev)\n",
    "            prev=current\n",
    "            current=temp\n",
    "        return prev\n",
    "            \n",
    "    middle = find_middle(head)\n",
    "    reversed_ll = reverse(middle)\n",
    "    \n",
    "    \n",
    "    #check two linked list\n",
    "    temp1 = head\n",
    "    temp2 = reversed_ll\n",
    "    \n",
    "    while temp1 and temp2:\n",
    "        if temp1.getData()!=temp2.getData():\n",
    "            print(\"Its not pallindrome\")\n",
    "            return\n",
    "        else:\n",
    "            temp1=temp1.getNext()\n",
    "            temp2=temp2.getNext()\n",
    "            \n",
    "    print(\"Its pallindrome\")\n",
    "    return\n",
    "\n",
    "\n",
    "checkPallindrome(head)\n"
   ]
  },
  {
   "cell_type": "code",
   "execution_count": 47,
   "id": "5d4acf1a-4b74-463f-826f-6e61f49910d9",
   "metadata": {},
   "outputs": [
    {
     "name": "stdout",
     "output_type": "stream",
     "text": [
      "1->2->3->4->5->\n",
      "4->5->1->2->3->"
     ]
    }
   ],
   "source": [
    "# Problem 10: Rotate a linked list to the right by k places.\n",
    "# Input: 1 -> 2 -> 3 -> 4 -> 5, k = 2\n",
    "# Output: 4 -> 5 -> 1 -> 2 -> 3\n",
    "\n",
    "head = Node(1)\n",
    "node2 = Node(2)\n",
    "node3 = Node(3)\n",
    "node4 = Node(4)\n",
    "node5 = Node(5)\n",
    "\n",
    "\n",
    "head.setNext(node2)\n",
    "node2.setNext(node3)\n",
    "node3.setNext(node4)\n",
    "node4.setNext(node5)\n",
    "\n",
    "\n",
    "traverse(head)\n",
    "print()\n",
    "\n",
    "def findlength_ll(head):\n",
    "    temp=head\n",
    "    count = 0\n",
    "    while temp:\n",
    "        temp=temp.getNext()\n",
    "        count+=1\n",
    "    return count\n",
    "\n",
    "def finding_last_kth_node(head,k):\n",
    "    length = findlength_ll(head)\n",
    "    k = k%length\n",
    "    count = 0\n",
    "    temp = head\n",
    "    while temp and count<length-k-1:\n",
    "        temp = temp.getNext()\n",
    "        count+=1\n",
    "    return temp\n",
    "\n",
    "\n",
    "def reverse(head):\n",
    "    tail=head\n",
    "    temp=head\n",
    "    prev = None\n",
    "    current = temp\n",
    "    while current:\n",
    "        node = current.getNext()\n",
    "        current.setNext(prev)\n",
    "        prev = current\n",
    "        current = node\n",
    "    head = prev\n",
    "    return (head,tail)\n",
    "\n",
    "\n",
    "def rotation_ll(head,k):\n",
    "    node=finding_last_kth_node(head,k)\n",
    "    r = reverse(node.getNext())\n",
    "    node.setNext(None)\n",
    "    l = reverse(head)\n",
    "    l[1].setNext(r[0])\n",
    "    head=l[0]\n",
    "    result = reverse(head)\n",
    "    head=result[0]\n",
    "    return head\n",
    "\n",
    "\n",
    "\n",
    "k=2\n",
    "head = rotation_ll(head,k)\n",
    "traverse(head)"
   ]
  },
  {
   "cell_type": "code",
   "execution_count": 18,
   "id": "71aea7b9-959e-4973-a1a8-3124e8060687",
   "metadata": {},
   "outputs": [
    {
     "name": "stdout",
     "output_type": "stream",
     "text": [
      "Original Linked List:\n",
      "1 <-> 2 <-> 3 <-> 7 <-> 8 <-> 11 <-> 12\n",
      "\n",
      "Flattened Linked List:\n",
      "1 <-> 2 <-> 3 <-> 4 <-> 7 <-> 8 <-> 6 <-> 11 <-> 12\n"
     ]
    }
   ],
   "source": [
    "#Problem 11: Flatten a multilevel doubly linked list.\n",
    "# Input: 1 <-> 2 <-> 3 <-> 7 <-> 8 <-> 11 -> 12, 4 <-> 5 -> 9 -> 10, 6 -> 13\n",
    "# Output: 1 <-> 2 <-> 3 <-> 4 <-> 5 <-> 6 <-> 7 <-> 8 <-> 9 <-> 10 <-> 11 <-> 12 <-> 13\n",
    "\n",
    "class Node:\n",
    "    def __init__(self, value, prev=None, next=None):\n",
    "        self.value = value\n",
    "        self.prev = prev\n",
    "        self.next = next\n",
    "\n",
    "def flatten_multilevel_linked_list(head):\n",
    "    if not head:\n",
    "        return None\n",
    "\n",
    "    current = head\n",
    "\n",
    "    while current:\n",
    "        if current.prev and hasattr(current, 'child') and current.child:\n",
    "            last_child = flatten_multilevel_linked_list(current.child)\n",
    "            last_child.next = current.next\n",
    "            if current.next:\n",
    "                current.next.prev = last_child\n",
    "            current.next = current.child\n",
    "            current.child.prev = current\n",
    "            current.child = None\n",
    "\n",
    "        current = current.next\n",
    "\n",
    "    return head\n",
    "\n",
    "def print_linked_list(head):\n",
    "    result = []\n",
    "    while head:\n",
    "        result.append(head.value)\n",
    "        head = head.next\n",
    "    print(\" <-> \".join(map(str, result)))\n",
    "\n",
    "# Example usage:\n",
    "# Creating the multilevel doubly linked list\n",
    "head = Node(1)\n",
    "head.next = Node(2, head)\n",
    "head.next.next = Node(3, head.next)\n",
    "head.next.next.next = Node(7, head.next.next)\n",
    "head.next.next.next.next = Node(8, head.next.next.next)\n",
    "head.next.next.next.next.next = Node(11, head.next.next.next.next)\n",
    "head.next.next.next.next.next.next = Node(12, head.next.next.next.next.next)\n",
    "head.next.next.child = Node(4, None, Node(5, None, Node(9, None, Node(10))))\n",
    "head.next.next.next.next.child = Node(6, None, Node(13))\n",
    "\n",
    "# Print the original multilevel doubly linked list\n",
    "print(\"Original Linked List:\")\n",
    "print_linked_list(head)\n",
    "\n",
    "# Flatten the multilevel doubly linked list\n",
    "flatten_multilevel_linked_list(head)\n",
    "\n",
    "# Print the flattened linked list\n",
    "print(\"\\nFlattened Linked List:\")\n",
    "print_linked_list(head)\n"
   ]
  },
  {
   "cell_type": "code",
   "execution_count": 20,
   "id": "acef4dc6-10fe-42c2-ade8-86b8b810fdc7",
   "metadata": {},
   "outputs": [
    {
     "name": "stdout",
     "output_type": "stream",
     "text": [
      "1->2->3->4->5->\n",
      "1->3->5->2->4->"
     ]
    }
   ],
   "source": [
    "# Problem 12: Rearrange a linked list such that all even positioned nodes are placed at the end.\n",
    "# Input: 1 -> 2 -> 3 -> 4 -> 5\n",
    "# Output: 1 -> 3 -> 5 -> 2 -> 4\n",
    "\n",
    "head = Node(1)\n",
    "node2 = Node(2)\n",
    "node3 = Node(3)\n",
    "node4 = Node(4)\n",
    "node5 = Node(5)\n",
    "\n",
    "\n",
    "\n",
    "head.setNext(node2)\n",
    "node2.setNext(node3)\n",
    "node3.setNext(node4)\n",
    "node4.setNext(node5)\n",
    "\n",
    "\n",
    "\n",
    "traverse(head)\n",
    "print()\n",
    "\n",
    "def rearrange_even_odd_ll(head):\n",
    "    dummyodd = Node(0)\n",
    "    dummyodd.setNext(head)\n",
    "    dummyeven = Node(0)\n",
    "    dummyeven.setNext(head.getNext())\n",
    "\n",
    "    temp1 = head\n",
    "    connector = head.getNext()\n",
    "    temp2 =head.getNext()\n",
    "\n",
    "    while temp1.getNext() and temp2.getNext():\n",
    "        node_odd = temp2.getNext()\n",
    "        node_even = node_odd.getNext()\n",
    "        temp1.setNext(node_odd)\n",
    "        temp2.setNext(node_even)\n",
    "        temp1 = node_odd\n",
    "        temp2 = node_even\n",
    "\n",
    "    temp1.setNext(connector)\n",
    "    \n",
    "    return head\n",
    "\n",
    "head = rearrange_even_odd_ll(head)\n",
    "traverse(head)\n",
    "    "
   ]
  },
  {
   "cell_type": "code",
   "execution_count": 80,
   "id": "30e0072e-9380-4ee2-89cb-b3aa5dfbe6e0",
   "metadata": {},
   "outputs": [
    {
     "name": "stdout",
     "output_type": "stream",
     "text": [
      "1->2->3->\n",
      "1->2->4->\n"
     ]
    }
   ],
   "source": [
    "# Problem 13: Given a non-negative number represented as a linked list, add one to it.\n",
    "# Input: 1 -> 2 -> 3 (represents the number 123)\n",
    "# Output: 1 -> 2 -> 4 (represents the number 124)\n",
    "\n",
    "class Node:\n",
    "    def __init__(self,data):\n",
    "        self.data=data\n",
    "        self.next=None\n",
    "        \n",
    "    def getData(self):\n",
    "        return self.data\n",
    "    \n",
    "    def setData(self,data):\n",
    "        self.data=data\n",
    "        \n",
    "    def setNext(self,node):\n",
    "        self.next=node\n",
    "        \n",
    "    def getNext(self):\n",
    "        return self.next\n",
    "    \n",
    "def traverse(head):\n",
    "    temp=head\n",
    "    while temp:\n",
    "        print(temp.getData(),end=\"->\")\n",
    "        temp=temp.getNext()\n",
    "    print()\n",
    "\n",
    "\n",
    "def addition_result(head):\n",
    "    dummy = Node(0)\n",
    "    dummy.setNext(head)\n",
    "    \n",
    "    def add_oneto_ll(dummy,carry=1):\n",
    "        if not dummy.getNext():\n",
    "            return carry\n",
    "\n",
    "        carry=add_oneto_ll(dummy.getNext(),carry)\n",
    "        sum_ = dummy.getNext().getData()+carry\n",
    "        dummy.getNext().setData(sum_%10) \n",
    "        carry = sum_//10\n",
    "        return carry\n",
    "    \n",
    "    carry=add_oneto_ll(dummy)\n",
    "    \n",
    "    if carry==1:\n",
    "        node = Node(1)\n",
    "        node.setNext(head)\n",
    "        head = node\n",
    "        \n",
    "    return head\n",
    "    \n",
    "head = Node(1)\n",
    "node2 = Node(2)\n",
    "node3 = Node(3)\n",
    "\n",
    "head.setNext(node2)\n",
    "node2.setNext(node3)\n",
    "\n",
    "traverse(head)\n",
    "head = addition_result(head)\n",
    "traverse(head)"
   ]
  },
  {
   "cell_type": "code",
   "execution_count": 69,
   "id": "80eac059-d07d-46d1-b1dc-ae0bbab0b3a1",
   "metadata": {},
   "outputs": [
    {
     "name": "stdout",
     "output_type": "stream",
     "text": [
      "1\n"
     ]
    }
   ],
   "source": [
    "# Problem 14: Given a sorted array and a target value, return the index if the target is found. If not, return the\n",
    "# index where it would be inserted.\n",
    "# Input: nums = [1, 3, 5, 6], target = 5\n",
    "# Output: 2\n",
    "\n",
    "def find_target(arr,target):\n",
    "    left=0\n",
    "    right=len(arr)-1\n",
    "    \n",
    "    while left<=right:\n",
    "        mid = left + (right-left)//2\n",
    "        \n",
    "        if arr[mid]==target:\n",
    "            return mid\n",
    "        \n",
    "        if arr[mid]>target:\n",
    "            right=mid-1\n",
    "        else:\n",
    "            left=mid+1\n",
    "    return left\n",
    "\n",
    "nums=[1, 3, 5, 6]\n",
    "print(find_target(nums,3))"
   ]
  },
  {
   "cell_type": "code",
   "execution_count": 15,
   "id": "fa35cf62-3774-4c34-bc11-cd8b9c821c72",
   "metadata": {},
   "outputs": [
    {
     "data": {
      "text/plain": [
       "0"
      ]
     },
     "execution_count": 15,
     "metadata": {},
     "output_type": "execute_result"
    }
   ],
   "source": [
    "# # Problem 15: Find the minimum element in a rotated sorted array.\n",
    "# Input: [4, 5, 6, 7, 0, 1, 2]\n",
    "# Output: 0\n",
    "\n",
    "def find_min(arr):\n",
    "    left = 0\n",
    "    right = len(arr)-1\n",
    "    \n",
    "    while left<right:\n",
    "        mid = left +(right-left)//2\n",
    "        \n",
    "        if arr[mid]>arr[right]:\n",
    "            left=mid+1\n",
    "        else:\n",
    "            right=mid-1\n",
    "            \n",
    "    return arr[left]\n",
    "\n",
    "arr=[4, 5, 6, 7, 0, 1, 2]\n",
    "find_min(arr)\n",
    "            "
   ]
  },
  {
   "cell_type": "code",
   "execution_count": 21,
   "id": "7fe23383-dc50-4fc6-8ab2-7672813074b0",
   "metadata": {},
   "outputs": [
    {
     "name": "stdout",
     "output_type": "stream",
     "text": [
      "4\n"
     ]
    }
   ],
   "source": [
    "# Problem 16: Search for a target value in a rotated sorted array.\n",
    "# Input: nums = [4, 5, 6, 7, 0, 1, 2], target = 0\n",
    "# Output: 4\n",
    "\n",
    "def find_value(arr,target):\n",
    "    left=0\n",
    "    right=len(arr)-1\n",
    "    \n",
    "    while left<=right:\n",
    "        \n",
    "        mid = left+(right-left)//2\n",
    "        \n",
    "        if arr[mid]==target:\n",
    "            return mid\n",
    "        # when left side is sorted\n",
    "        if arr[mid]>arr[left]:\n",
    "            if arr[left]<=target<arr[mid]:\n",
    "                right=mid-1\n",
    "            else:\n",
    "                left=mid+1\n",
    "                \n",
    "        # when right side is sorted\n",
    "        else :           \n",
    "            if arr[mid]<target<=arr[right]:\n",
    "                left=mid+1\n",
    "            else:\n",
    "                right=mid-1\n",
    "                \n",
    "nums =[4, 5, 6, 7, 0, 1, 2]\n",
    "target=0\n",
    "print(find_value(nums,target))           \n",
    "            "
   ]
  },
  {
   "cell_type": "code",
   "execution_count": 62,
   "id": "59687769-2d48-46b1-a095-96c77730f856",
   "metadata": {},
   "outputs": [
    {
     "name": "stdout",
     "output_type": "stream",
     "text": [
      "2\n"
     ]
    }
   ],
   "source": [
    "# Problem 17: Find the peak element in an array. A peak element is greater than its neighbors.\n",
    "# Input: nums = [1, 2, 3, 1]\n",
    "# Output: 2 (index of peak element)\n",
    "\n",
    "def find_peak(arr):\n",
    "    left=0\n",
    "    right=len(arr)-1\n",
    "    \n",
    "    while left<right:\n",
    "        mid = left+(right-left)//2\n",
    "        \n",
    "        if arr[mid-1]<arr[mid]>arr[mid+1]:\n",
    "            return mid\n",
    "        \n",
    "        if arr[mid]<arr[mid+1]:\n",
    "            left = mid+1\n",
    "        else:\n",
    "            right=mid-1\n",
    "            \n",
    "    return left\n",
    "\n",
    "nums = [1, 2, 3, 1]\n",
    "print(find_peak(nums))"
   ]
  },
  {
   "cell_type": "code",
   "execution_count": 15,
   "id": "a670d50b-25e1-4f1c-bbab-4ee90e780f85",
   "metadata": {},
   "outputs": [
    {
     "name": "stdout",
     "output_type": "stream",
     "text": [
      "8\n"
     ]
    }
   ],
   "source": [
    "# Problem 18: Given a m x n matrix where each row and column is sorted in descending order, count the number\n",
    "# of negative numbers.\n",
    "# Input: grid = [[4, 3, 2, -1], [3, 2, 1, -1], [1, 1, -1, -2], [-1, -1, -2, -3]]\n",
    "# Output: 8\n",
    "\n",
    "\n",
    "def find_negative_numbers(arr):\n",
    "    def index_negative_number(arr):\n",
    "            left = 0\n",
    "            right = len(arr)-1\n",
    "            if arr[left]<0:\n",
    "                return 0\n",
    "            while left<=right:\n",
    "                mid = left + (right-left)//2\n",
    "\n",
    "                if arr[mid]>=0:\n",
    "                    left = mid+1\n",
    "\n",
    "                elif arr[mid-1]>=0 and arr[mid]<0:\n",
    "                    return mid\n",
    "                else:\n",
    "                    right=mid-1\n",
    "            return -1\n",
    "\n",
    "    total_count = 0\n",
    "    for arr in grid:\n",
    "        index_value = index_negative_number(arr) \n",
    "        if index_value==-1:\n",
    "            continue\n",
    "        else:\n",
    "            total_count+=(len(arr)-index_value)\n",
    "            \n",
    "    return total_count\n",
    "        \n",
    "        \n",
    "        \n",
    "grid = [[4, 3, 2, -1], [3, 2, 1, -1], [1, 1, -1, -2], [-1, -1, -2, -3]]\n",
    "total_count=find_negative_numbers(grid)\n",
    "print(total_count)            "
   ]
  },
  {
   "cell_type": "code",
   "execution_count": 41,
   "id": "aa13d068-aa7e-4d6b-80be-c5579116dac0",
   "metadata": {},
   "outputs": [
    {
     "name": "stdout",
     "output_type": "stream",
     "text": [
      "True\n"
     ]
    }
   ],
   "source": [
    "# Problem 19: Given a 2D matrix sorted in ascending order in each row, and the first integer of each row is\n",
    "# greater than the last integer of the previous row, determine if a target value is present in the matrix.\n",
    "# Input: matrix = [[1, 3, 5, 7], [10, 11, 16, 20], [23, 30, 34, 60]], target = 3\n",
    "# Output: True\n",
    "\n",
    "def find_number(matrix,target):\n",
    "    for arr in matrix:\n",
    "        if arr[-1]<target:\n",
    "            continue\n",
    "        \n",
    "        else:\n",
    "            left = 0\n",
    "            right=len(arr)-1\n",
    "            while left<=right:\n",
    "                mid = left +(right-left)//2\n",
    "                \n",
    "                if arr[mid]==target:\n",
    "                    return True\n",
    "                \n",
    "                elif arr[mid]>target:\n",
    "                    right=mid-1\n",
    "                else:\n",
    "                    left=mid+1\n",
    "            \n",
    "            return False\n",
    "        \n",
    "matrix = [[1, 3, 5, 7], [10, 11, 16, 20], [23, 30, 34, 60]]\n",
    "target=3\n",
    "print(find_number(matrix,target))"
   ]
  },
  {
   "cell_type": "code",
   "execution_count": 19,
   "id": "b53ab5e9-e828-422c-8c37-b1ed77114888",
   "metadata": {},
   "outputs": [
    {
     "name": "stdout",
     "output_type": "stream",
     "text": [
      "2\n"
     ]
    }
   ],
   "source": [
    "# Problem 20: Find Median in Two Sorted Arrays\n",
    "# Problem: Given two sorted arrays, find the median of the combined sorted array.\n",
    "# Input: nums1 = [1, 3], nums2 = [2]\n",
    "# Output: 2.0\n",
    "\n",
    "def findMedianSortedArrays(nums1, nums2):\n",
    "    merged_array = merge_arrays(nums1, nums2)\n",
    "\n",
    "    length = len(merged_array)\n",
    "    \n",
    "    if length % 2 == 0:\n",
    "        middle1 = length // 2\n",
    "        middle2 = middle1 - 1\n",
    "        median = (merged_array[middle1] + merged_array[middle2]) / 2\n",
    "    else:\n",
    "        median = merged_array[length // 2]\n",
    "\n",
    "    return median\n",
    "\n",
    "def merge_arrays(nums1, nums2):\n",
    "    merged = []\n",
    "    i, j = 0, 0\n",
    "\n",
    "    while i < len(nums1) and j < len(nums2):\n",
    "        if nums1[i] <= nums2[j]:\n",
    "            merged.append(nums1[i])\n",
    "            i += 1\n",
    "        else:\n",
    "            merged.append(nums2[j])\n",
    "            j += 1\n",
    "\n",
    "    merged.extend(nums1[i:])\n",
    "    merged.extend(nums2[j:])\n",
    "\n",
    "    return merged\n",
    "\n",
    "# Example usage:\n",
    "nums1 = [1, 3]\n",
    "nums2 = [2]\n",
    "\n",
    "result = findMedianSortedArrays(nums1, nums2)\n",
    "print(result)\n"
   ]
  },
  {
   "cell_type": "code",
   "execution_count": 146,
   "id": "90b5a86d-bc14-425a-8ebb-58ea3c6eaf85",
   "metadata": {},
   "outputs": [
    {
     "name": "stdout",
     "output_type": "stream",
     "text": [
      "c\n"
     ]
    }
   ],
   "source": [
    "# Problem 21: Given a sorted character array and a target letter, find the smallest letter in the array that is\n",
    "# greater than the target.\n",
    "# Input: letters = ['c', 'f', 'j'], target = a\n",
    "# Output: 'c'\n",
    "\n",
    "def binarysearch(arr,target):\n",
    "    left = 0\n",
    "    right = len(arr)-1\n",
    "    while left<=right:\n",
    "        mid = left+(right-left)//2\n",
    "        if arr[mid]>target:\n",
    "            right=mid-1\n",
    "        \n",
    "        else:\n",
    "            left=mid+1\n",
    "            \n",
    "    return (arr[left] if left<len(arr) else None)\n",
    "\n",
    "letters = ['c', 'f', 'j']\n",
    "target = 'a'\n",
    "print(binarysearch(letters,target))"
   ]
  },
  {
   "cell_type": "code",
   "execution_count": 56,
   "id": "21b272b8-35b1-405b-a473-0bcf23f64161",
   "metadata": {},
   "outputs": [
    {
     "data": {
      "text/plain": [
       "[0, 0, 1, 1, 2, 2]"
      ]
     },
     "execution_count": 56,
     "metadata": {},
     "output_type": "execute_result"
    }
   ],
   "source": [
    "# Problem 22: Given an array with n objects colored red, white, or blue, sort them in-place so that objects of\n",
    "# the same color are adjacent, with the colors in the order red, white, and blue.\n",
    "# Input: nums = [2, 0, 2, 1, 1, 0]\n",
    "# Output: [0, 0, 1, 1, 2, 2]\n",
    "\n",
    "def sort_in_place(arr):\n",
    "    i=j=0\n",
    "    k=len(arr)-1\n",
    "    \n",
    "    while j<=k:\n",
    "        if arr[j]==0:\n",
    "            arr[i],arr[j]=arr[j],arr[i]\n",
    "            j+=1\n",
    "            i+=1\n",
    "            \n",
    "        elif arr[j]==1:\n",
    "            j+=1\n",
    "            \n",
    "        elif arr[j]==2:\n",
    "            arr[j],arr[k]=arr[k],arr[j]\n",
    "            k-=1\n",
    "            \n",
    "nums = [2, 0, 2, 1, 1, 0]\n",
    "sort_in_place(nums)\n",
    "nums"
   ]
  },
  {
   "cell_type": "code",
   "execution_count": 39,
   "id": "be61fbb1-1597-4018-9e7b-0a8d32869d54",
   "metadata": {},
   "outputs": [
    {
     "name": "stdout",
     "output_type": "stream",
     "text": [
      "5\n"
     ]
    }
   ],
   "source": [
    "# Problem 23: Find the kth largest element in an unsorted array.\n",
    "# Input: nums = [3, 2, 1, 5, 6, 4], k = 2\n",
    "# Output: 5\n",
    "\n",
    "\n",
    "def bubble_sort_desc(arr):\n",
    "    for i in range(len(arr)-1,0,-1):\n",
    "        for j in range(i):\n",
    "            if arr[i]>arr[j]:\n",
    "                arr[i],arr[j]=arr[j],arr[i]\n",
    "\n",
    "    \n",
    "def find_kth_largest(nums,k):\n",
    "    bubble_sort_desc(nums)\n",
    "    return nums[k-1]\n",
    "\n",
    "nums = [3, 2, 1, 5, 6, 4]\n",
    "print(find_kth_largest(nums,2))\n",
    "\n"
   ]
  },
  {
   "cell_type": "code",
   "execution_count": 32,
   "id": "fc954374-6f5f-4092-b101-9d26ae2a42bc",
   "metadata": {},
   "outputs": [
    {
     "name": "stdout",
     "output_type": "stream",
     "text": [
      "[3, 5, 1, 2, 4, 6]\n"
     ]
    }
   ],
   "source": [
    "# Problem 24: Given an unsorted array, reorder it in-place such that nums[0] <= nums[1] >= nums[2] <=\n",
    "# nums[3]...\n",
    "# Input: nums = [3, 5, 2, 1, 6, 4]\n",
    "# Output: [3, 5, 1, 6, 2, 4]\n",
    "\n",
    "def wiggle_sort(nums):\n",
    "    for i in range(len(nums)-1):\n",
    "        if (i%2==0 and nums[i]>nums[i+1]) or (i%2==1 and arr[i]<nums[i+1]):\n",
    "            nums[i],nums[i+1] = nums[i+1],nums[i]\n",
    "\n",
    "nums=[3, 5, 2, 1, 6, 4]\n",
    "wiggle_sort(nums)\n",
    "print(nums)"
   ]
  },
  {
   "cell_type": "code",
   "execution_count": 22,
   "id": "f86f30cc-2b99-4a44-a6d7-8a2bb22556fd",
   "metadata": {},
   "outputs": [
    {
     "name": "stdout",
     "output_type": "stream",
     "text": [
      "15\n"
     ]
    }
   ],
   "source": [
    "# Problem 25: Given an array of integers, calculate the sum of all its elements.\n",
    "# Input: [1, 2, 3, 4, 5]\n",
    "# Output: 15\n",
    "\n",
    "\n",
    "def sumcalculate(arr,i=0):\n",
    "    if i==len(arr)-1:\n",
    "        return arr[i]\n",
    "    \n",
    "    return arr[i] + sumcalculate(arr,i+1)\n",
    "\n",
    "arr=[1, 2, 3, 4, 5]\n",
    "print(sumcalculate(arr))"
   ]
  },
  {
   "cell_type": "code",
   "execution_count": 19,
   "id": "a2964f4c-2a85-4dba-a98e-8f68865ec104",
   "metadata": {},
   "outputs": [
    {
     "name": "stdout",
     "output_type": "stream",
     "text": [
      "9\n"
     ]
    }
   ],
   "source": [
    "# Problem 26: Find the maximum element in an array of integers.\n",
    "# Input: [3, 7, 2, 9, 4, 1]\n",
    "# Output: 9\n",
    "\n",
    "\n",
    "def findMax(arr,i=0):\n",
    "    if i == len(arr)-1:\n",
    "        return arr[i]\n",
    "    \n",
    "    return max(arr[i],findMax(arr,i+1))\n",
    "\n",
    "\n",
    "arr=[3, 7, 2, 9, 4, 1]\n",
    "print(findMax(arr))"
   ]
  },
  {
   "cell_type": "code",
   "execution_count": 8,
   "id": "8dd10175-53f8-46f1-a305-9235b50405a4",
   "metadata": {},
   "outputs": [
    {
     "name": "stdout",
     "output_type": "stream",
     "text": [
      "2\n"
     ]
    }
   ],
   "source": [
    "# Problem 27: Implement linear search to find the index of a target element in an array.\n",
    "# Input: [5, 3, 8, 2, 7, 4], target = 8\n",
    "# Output: 2\n",
    "\n",
    "def findIndex(arr,target,i=0):\n",
    "    if i==len(arr):\n",
    "        return -1\n",
    "    if arr[i]==target:\n",
    "        return i\n",
    "    else:\n",
    "        return findIndex(arr,target,i+1)\n",
    "\n",
    "arr= [5, 3, 8, 2, 7, 4]\n",
    "target=8\n",
    "print(findIndex(arr,target))"
   ]
  },
  {
   "cell_type": "code",
   "execution_count": 6,
   "id": "c74bd6be-6eff-4a08-9f0b-46bf46672eae",
   "metadata": {},
   "outputs": [
    {
     "name": "stdout",
     "output_type": "stream",
     "text": [
      "120\n"
     ]
    }
   ],
   "source": [
    "# Problem 28 Calculate the factorial of a given number.\n",
    "# Input: 5\n",
    "# Output: 120 (as 5! = 5 * 4 * 3 * 2 * 1 = 120)\n",
    "\n",
    "def factorial(num):\n",
    "    if num==1 or num==0:\n",
    "        return 1\n",
    "    else:\n",
    "        return num*factorial(num-1)\n",
    "    \n",
    "print(factorial(5))"
   ]
  },
  {
   "cell_type": "code",
   "execution_count": 5,
   "id": "9478fe17-01f1-41cc-8c96-8022e2e1a2a3",
   "metadata": {},
   "outputs": [
    {
     "name": "stdout",
     "output_type": "stream",
     "text": [
      "True\n"
     ]
    }
   ],
   "source": [
    "# Problem 29: Check if a given number is a prime number.\n",
    "# Input: 7\n",
    "# Output: True\n",
    "\n",
    "\n",
    "def checkPrime(num):\n",
    "    if num<=1:\n",
    "        return False\n",
    "    \n",
    "    for i in range(2,int(num**0.5)+1):\n",
    "        if num%i==0:\n",
    "            return False\n",
    "    return True\n",
    "\n",
    "print(checkPrime(7))"
   ]
  },
  {
   "cell_type": "code",
   "execution_count": 4,
   "id": "61fb5fa4-9b25-46b3-9c6a-89a7b604ed15",
   "metadata": {},
   "outputs": [
    {
     "name": "stdout",
     "output_type": "stream",
     "text": [
      "0 1 1 2 3 5 8 13 "
     ]
    }
   ],
   "source": [
    "# Problem 30: Generate the Fibonacci series up to a given number n.\n",
    "# Input: 8\n",
    "# Output: [0, 1, 1, 2, 3, 5, 8, 13]\n",
    "\n",
    "def fibgenerate(n):\n",
    "    a = 0\n",
    "    b =1\n",
    "    for i in range(n):\n",
    "        print(a,end=\" \")\n",
    "        a,b=b,a+b\n",
    "        \n",
    "fibgenerate(8)"
   ]
  },
  {
   "cell_type": "code",
   "execution_count": 75,
   "id": "102e824a-e1ca-48a6-a92a-e1db36530e39",
   "metadata": {},
   "outputs": [
    {
     "name": "stdout",
     "output_type": "stream",
     "text": [
      "81\n"
     ]
    }
   ],
   "source": [
    "# Problem 31: Calculate the power of a number using recursion.\n",
    "# Input: base = 3, exponent = 4\n",
    "# Output: 81 (as 3^4 = 3 * 3 * 3 * 3 = 81)\n",
    "\n",
    "def power(base,exp):\n",
    "    if exp==0:\n",
    "        return 1\n",
    "    if exp==1:\n",
    "        return base\n",
    "    else:\n",
    "        mid = exp//2\n",
    "        prod = power(base,mid)\n",
    "        result = prod*prod\n",
    "        \n",
    "        if exp%2!=0:\n",
    "            return result*base\n",
    "        else:\n",
    "            return result\n",
    "\n",
    "print(power(3,4))"
   ]
  },
  {
   "cell_type": "code",
   "execution_count": 1,
   "id": "74e852bc-2ed2-4a28-93dc-91922645f55a",
   "metadata": {},
   "outputs": [
    {
     "name": "stdout",
     "output_type": "stream",
     "text": [
      "olleh\n"
     ]
    }
   ],
   "source": [
    "# Problem 32: Reverse a given string.\n",
    "# Input: \"hello\"\n",
    "# Output: \"olleh\"\n",
    "\n",
    "def reverse_string(string):\n",
    "    if len(string)==0:\n",
    "        return \"Empty string\"\n",
    "    if len(string)==1:\n",
    "        return string\n",
    "    else:\n",
    "        return string[-1]+reverse_string(string[:-1])\n",
    "    \n",
    "print(reverse_string(\"hello\"))"
   ]
  }
 ],
 "metadata": {
  "kernelspec": {
   "display_name": "Python 3 (ipykernel)",
   "language": "python",
   "name": "python3"
  },
  "language_info": {
   "codemirror_mode": {
    "name": "ipython",
    "version": 3
   },
   "file_extension": ".py",
   "mimetype": "text/x-python",
   "name": "python",
   "nbconvert_exporter": "python",
   "pygments_lexer": "ipython3",
   "version": "3.10.8"
  }
 },
 "nbformat": 4,
 "nbformat_minor": 5
}
